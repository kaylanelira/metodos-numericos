{
  "nbformat": 4,
  "nbformat_minor": 0,
  "metadata": {
    "colab": {
      "provenance": [],
      "authorship_tag": "ABX9TyPXZFBf2HvoKdM2S5z54s7W",
      "include_colab_link": true
    },
    "kernelspec": {
      "name": "python3",
      "display_name": "Python 3"
    },
    "language_info": {
      "name": "python"
    }
  },
  "cells": [
    {
      "cell_type": "markdown",
      "metadata": {
        "id": "view-in-github",
        "colab_type": "text"
      },
      "source": [
        "<a href=\"https://colab.research.google.com/github/kaylanelira/metodos-numericos/blob/main/LE2_2_kgl.ipynb\" target=\"_parent\"><img src=\"https://colab.research.google.com/assets/colab-badge.svg\" alt=\"Open In Colab\"/></a>"
      ]
    },
    {
      "cell_type": "markdown",
      "source": [
        "# Resolução da questão 10(b)\n",
        "\n",
        "Use o método de coeficientes indeterminados para encontrar uma solução yp(t) a\n",
        "\n",
        "(b) $y’’ + y = cos(t)$.\n",
        "\n",
        "Onde $y(0) = y'(0) = 0$.\n",
        "\n"
      ],
      "metadata": {
        "id": "77QL7qrq2Jjy"
      }
    },
    {
      "cell_type": "code",
      "execution_count": null,
      "metadata": {
        "id": "snN0jlrK2E2K"
      },
      "outputs": [],
      "source": [
        "import pandas as pd\n",
        "import numpy as np\n",
        "import matplotlib.pyplot as plt\n",
        "import plotly.graph_objects as go\n",
        "from scipy.integrate import odeint"
      ]
    },
    {
      "cell_type": "markdown",
      "source": [
        "# Solução Numérica"
      ],
      "metadata": {
        "id": "yethdu6mAhqB"
      }
    },
    {
      "cell_type": "markdown",
      "source": [
        "\n",
        "\n",
        "Transformando em uma EDO  de 1° ordem, criando a dupla v, tal que:\n",
        "\n",
        "> $u = [y(t), y'(t)] = [u[0], u[1]]$\n",
        "\n",
        "Isolando temos y'' = cos(t) - y. Assim\n",
        "> $u' = [y'(t), y''(t)] = [u[1], cos(t) - u[0]]$\n",
        "\n"
      ],
      "metadata": {
        "id": "uXPVHSKuNVaE"
      }
    },
    {
      "cell_type": "markdown",
      "source": [
        "Assim, a ODEint irá utilizar os parâmetros:\n",
        "\n",
        "\n",
        "*   $u'[t, t] = [y'(t), y''(t)]$ => a partir da função dudt\n",
        "*   $u[0,0] = [y(0), y'(0)] = [0, 0]$\n",
        "\n"
      ],
      "metadata": {
        "id": "fBmUyutjcWGn"
      }
    },
    {
      "cell_type": "code",
      "source": [
        "# function dy/dt calculating [y'(0), y''(0)]\n",
        "def Q10b(u, t):\n",
        "  dydt = [u[1], np.cos(t)-u[0]];\n",
        "  return dydt"
      ],
      "metadata": {
        "id": "RDrHrUFOTD-E"
      },
      "execution_count": null,
      "outputs": []
    },
    {
      "cell_type": "code",
      "source": [
        "# initial condition\n",
        "u0 = [0, 0]\n",
        "t0 = 0    # beginning time\n",
        "tf = 10    # final time\n",
        "\n",
        "#time points \n",
        "t = np.linspace(t0, tf, num=100)  \n",
        "\n",
        "# solve ODE\n",
        "u_num = odeint(Q10b, u0, t)\n",
        "\n",
        "#plot results \n",
        "plt.title('Q10(b) Numérica')\n",
        "plt.plot(t, u_num[ : ,0]) # ODE\n",
        "plt.xlabel('t')\n",
        "plt.ylabel('y(t)')\n",
        "plt.show()"
      ],
      "metadata": {
        "id": "LnoD9r7kNUQY",
        "colab": {
          "base_uri": "https://localhost:8080/",
          "height": 295
        },
        "outputId": "ea4fed74-aa85-412d-c564-87a7cbfca46c"
      },
      "execution_count": null,
      "outputs": [
        {
          "output_type": "display_data",
          "data": {
            "text/plain": [
              "<Figure size 432x288 with 1 Axes>"
            ],
            "image/png": "[encoded data removed]"
          },
          "metadata": {
            "needs_background": "light"
          }
        }
      ]
    },
    {
      "cell_type": "markdown",
      "source": [
        "## Solução Analítica"
      ],
      "metadata": {
        "id": "WIQemkDm7MY8"
      }
    },
    {
      "cell_type": "markdown",
      "source": [
        "Utilizando método dos Coeficientes Indeterminados:\n",
        "> $yp(t) = M cos(\\omega t) + N sen (\\omega t)$\n",
        "\n",
        "Tal que\n",
        "> $M = \\frac{C-A\\omega^2}{D}$\n",
        "\n",
        "> $N = \\frac{B\\omega}{D}$\n",
        "\n",
        "> $D = ({C-A\\omega^2})^2 + B^2\\omega^2$"
      ],
      "metadata": {
        "id": "BdSRZMiVgSPf"
      }
    },
    {
      "cell_type": "markdown",
      "source": [
        "Substituindo na equação $y’’ + y = cos(t)$\n",
        "\n",
        "$A = 1; \\space B = 0; \\space C = 1; \\space \\omega = 1$\n",
        "\n",
        "E assim:\n",
        "$D = 0; \\space M = 0/0; \\space N = 0/0$\n",
        "\n"
      ],
      "metadata": {
        "id": "KShJNKC4h0El"
      }
    },
    {
      "cell_type": "markdown",
      "source": [
        "O que remete a ressonância, transformando a solução:\n",
        "> $yp(t) = Mt cos(\\omega t) + Nt sen (\\omega t)$\n",
        "\n",
        "Substituindo $M = 0$ e $N = \\frac{1}{2}$\n",
        "> $yp(t) = \\frac{1}{2}t \\space sen(t)$"
      ],
      "metadata": {
        "id": "_e4QrZc6jJZk"
      }
    },
    {
      "cell_type": "code",
      "source": [
        "def Q10b_analitic(t):\n",
        "  dydt = 0.5 * t * np.sin(t);\n",
        "  return dydt;"
      ],
      "metadata": {
        "id": "0LbAFDWB7Vor"
      },
      "execution_count": null,
      "outputs": []
    },
    {
      "cell_type": "code",
      "source": [
        "# initial condition\n",
        "u0 = [0, 0]\n",
        "t0 = 0    # beginning time\n",
        "tf = 10    # final time\n",
        "\n",
        "# expected function\n",
        "y_ana  = np.vectorize(Q10b_analitic) \n",
        "\n",
        "# plot results\n",
        "plt.title('Q10(b) Analítica')\n",
        "plt.plot(t, y_ana(t), 'r-')\n",
        "plt.xlabel('t')\n",
        "plt.ylabel('y(t)')\n",
        "plt.show()"
      ],
      "metadata": {
        "colab": {
          "base_uri": "https://localhost:8080/",
          "height": 295
        },
        "id": "7sRKlMSY8Vfj",
        "outputId": "1fbdfbe4-0302-475c-aa52-2a7f615bae0c"
      },
      "execution_count": null,
      "outputs": [
        {
          "output_type": "display_data",
          "data": {
            "text/plain": [
              "<Figure size 432x288 with 1 Axes>"
            ],
            "image/png": "[encoded data removed]"
          },
          "metadata": {
            "needs_background": "light"
          }
        }
      ]
    },
    {
      "cell_type": "markdown",
      "source": [
        "## Comparando Analítica e Numérica"
      ],
      "metadata": {
        "id": "o3wWZrmJ_k5l"
      }
    },
    {
      "cell_type": "markdown",
      "source": [
        "Comparando soluções numérica e analítica em um gráfico"
      ],
      "metadata": {
        "id": "gJXuzjc-NcdC"
      }
    },
    {
      "cell_type": "code",
      "source": [
        "y_ana = np.vectorize(Q10b_analitic)\n",
        "y_num = odeint(Q10b, u0, t)\n",
        "\n",
        "# plot analitics results \n",
        "plt.plot(t, y_ana(t), 'r:')\n",
        "# plot numerical results \n",
        "plt.plot(t, u_num[ : ,0]) \n",
        "\n",
        "plt.title('Q10(b) Comparação Numérica e Analítica')\n",
        "plt.xlabel('t')\n",
        "plt.ylabel('y(t)')\n",
        "\n",
        "plt.legend(['y analítica','y numérica'])\n",
        "plt.show()"
      ],
      "metadata": {
        "colab": {
          "base_uri": "https://localhost:8080/",
          "height": 295
        },
        "id": "aRHBbzIqNi8W",
        "outputId": "72233c8c-ff94-4198-f02f-96d1cefebd63"
      },
      "execution_count": null,
      "outputs": [
        {
          "output_type": "display_data",
          "data": {
            "text/plain": [
              "<Figure size 432x288 with 1 Axes>"
            ],
            "image/png": "[encoded data removed]"
          },
          "metadata": {
            "needs_background": "light"
          }
        }
      ]
    }
  ]
}